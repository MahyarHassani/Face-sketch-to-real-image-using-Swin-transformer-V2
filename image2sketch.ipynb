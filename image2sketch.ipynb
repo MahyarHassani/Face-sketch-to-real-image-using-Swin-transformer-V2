{
 "cells": [
  {
   "cell_type": "code",
   "execution_count": null,
   "id": "aef1a909-8a55-4e5a-9c80-6cf1a0ff76cb",
   "metadata": {},
   "outputs": [],
   "source": [
    "import cv2\n",
    "\n",
    "def convert_to_sketch(image_path, output_path=None):\n",
    "    \"\"\"\n",
    "    Converts an image to a pencil sketch and displays/saves the result.\n",
    "    \n",
    "    Parameters:\n",
    "        image_path (str): Path to the input image.\n",
    "        output_path (str, optional): Path to save the output sketch. If None, the sketch is not saved.\n",
    "    \"\"\"\n",
    "    image = cv2.imread(image_path)\n",
    "    if image is None:\n",
    "        print(f\"Error: Unable to read image from {image_path}.\")\n",
    "        return\n",
    "\n",
    "    gray_image = cv2.cvtColor(image, cv2.COLOR_BGR2GRAY)\n",
    "\n",
    "    inverted_image = 255 - gray_image\n",
    "\n",
    "    blurred = cv2.GaussianBlur(inverted_image, (21, 21), 0)\n",
    "\n",
    "    inverted_blurred = 255 - blurred\n",
    "\n",
    "    pencil_sketch = cv2.divide(gray_image, inverted_blurred, scale=256)\n",
    "\n",
    "    cv2.imshow(\"Original Image\", image)\n",
    "    cv2.imshow(\"Pencil Sketch\", pencil_sketch)\n",
    "    cv2.waitKey(0)\n",
    "    cv2.destroyAllWindows()\n",
    "\n",
    "    if output_path:\n",
    "        cv2.imwrite(output_path, pencil_sketch)\n",
    "        print(f\"Sketch saved to {output_path}\")\n",
    "\n",
    "\n",
    "if __name__ == \"__main__\":\n",
    "    input_image_path = r\"D:\\Projects\\Sketch To Real Image\\sketch-to-image-swin\\dataset\\celeba\"  # Replace with your image path\n",
    "    output_sketch_path = r\"D:\\Projects\\Sketch To Real Image\\sketch-to-image-swin\\dataset\\sketches\"  # Replace with your desired output path\n",
    "\n",
    "    convert_to_sketch(input_image_path, output_sketch_path)"
   ]
  }
 ],
 "metadata": {
  "kernelspec": {
   "display_name": "Python 3.13.1 64-bit",
   "language": "python",
   "name": "python3"
  },
  "language_info": {
   "codemirror_mode": {
    "name": "ipython",
    "version": 3
   },
   "file_extension": ".py",
   "mimetype": "text/x-python",
   "name": "python",
   "nbconvert_exporter": "python",
   "pygments_lexer": "ipython3",
   "version": "3.13.1"
  },
  "vscode": {
   "interpreter": {
    "hash": "3f121d9e30a559e9f91baa8fa78acc797627d13b414849e8bdeea3d9bb525051"
   }
  }
 },
 "nbformat": 4,
 "nbformat_minor": 5
}
